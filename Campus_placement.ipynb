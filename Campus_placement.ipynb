{
  "nbformat": 4,
  "nbformat_minor": 0,
  "metadata": {
    "colab": {
      "name": "Campus placement.ipynb",
      "provenance": [],
      "collapsed_sections": [],
      "authorship_tag": "ABX9TyM59VywdRZpqGe9VuSXc4k6",
      "include_colab_link": true
    },
    "kernelspec": {
      "name": "python3",
      "display_name": "Python 3"
    },
    "language_info": {
      "name": "python"
    }
  },
  "cells": [
    {
      "cell_type": "markdown",
      "metadata": {
        "id": "view-in-github",
        "colab_type": "text"
      },
      "source": [
        "<a href=\"https://colab.research.google.com/github/gsindhu455/PythonProgramming/blob/master/Campus_placement.ipynb\" target=\"_parent\"><img src=\"https://colab.research.google.com/assets/colab-badge.svg\" alt=\"Open In Colab\"/></a>"
      ]
    },
    {
      "cell_type": "code",
      "metadata": {
        "colab": {
          "base_uri": "https://localhost:8080/"
        },
        "id": "R5FRC5OWVKHb",
        "outputId": "be7104b1-1b94-42c8-a391-b7d2c22cffa1"
      },
      "source": [
        "#import the student placement data\n",
        "!wget https://www.dropbox.com/s/755hnawo000aeaw/Placement_Data_Full_Class.csv"
      ],
      "execution_count": 2,
      "outputs": [
        {
          "output_type": "stream",
          "text": [
            "--2021-03-20 15:59:16--  https://www.dropbox.com/s/755hnawo000aeaw/Placement_Data_Full_Class.csv\n",
            "Resolving www.dropbox.com (www.dropbox.com)... 162.125.80.18, 2620:100:6032:18::a27d:5212\n",
            "Connecting to www.dropbox.com (www.dropbox.com)|162.125.80.18|:443... connected.\n",
            "HTTP request sent, awaiting response... 301 Moved Permanently\n",
            "Location: /s/raw/755hnawo000aeaw/Placement_Data_Full_Class.csv [following]\n",
            "--2021-03-20 15:59:17--  https://www.dropbox.com/s/raw/755hnawo000aeaw/Placement_Data_Full_Class.csv\n",
            "Reusing existing connection to www.dropbox.com:443.\n",
            "HTTP request sent, awaiting response... 302 Found\n",
            "Location: https://uc70a09e70b6a938e0a2618710b9.dl.dropboxusercontent.com/cd/0/inline/BLCoHC-0KPfxlCjE2qq8l8JBbholAQlPu-VMYJJZt7iRMuY4-eHtBMEiZVMeCiVSI963NTV0hiDiFK1IYKItjXDdBlKh7GlfmTQkEI4bVnhrIzYzjkEUQGpCADbzV8RLb8mVXENmg3jitEpL7pJxOPY5/file# [following]\n",
            "--2021-03-20 15:59:17--  https://uc70a09e70b6a938e0a2618710b9.dl.dropboxusercontent.com/cd/0/inline/BLCoHC-0KPfxlCjE2qq8l8JBbholAQlPu-VMYJJZt7iRMuY4-eHtBMEiZVMeCiVSI963NTV0hiDiFK1IYKItjXDdBlKh7GlfmTQkEI4bVnhrIzYzjkEUQGpCADbzV8RLb8mVXENmg3jitEpL7pJxOPY5/file\n",
            "Resolving uc70a09e70b6a938e0a2618710b9.dl.dropboxusercontent.com (uc70a09e70b6a938e0a2618710b9.dl.dropboxusercontent.com)... 162.125.82.15, 2620:100:6032:15::a27d:520f\n",
            "Connecting to uc70a09e70b6a938e0a2618710b9.dl.dropboxusercontent.com (uc70a09e70b6a938e0a2618710b9.dl.dropboxusercontent.com)|162.125.82.15|:443... connected.\n",
            "HTTP request sent, awaiting response... 200 OK\n",
            "Length: 19712 (19K) [text/plain]\n",
            "Saving to: ‘Placement_Data_Full_Class.csv’\n",
            "\n",
            "Placement_Data_Full 100%[===================>]  19.25K  --.-KB/s    in 0.01s   \n",
            "\n",
            "2021-03-20 15:59:17 (1.34 MB/s) - ‘Placement_Data_Full_Class.csv’ saved [19712/19712]\n",
            "\n"
          ],
          "name": "stdout"
        }
      ]
    },
    {
      "cell_type": "code",
      "metadata": {
        "id": "5tAqiDa9WkZt"
      },
      "source": [
        "#import our dependencies\n",
        "import pandas as pd\n",
        "import numpy as np\n",
        "import seaborn as sn\n",
        "import matplotlib.pyplot as plt\n"
      ],
      "execution_count": 17,
      "outputs": []
    },
    {
      "cell_type": "code",
      "metadata": {
        "id": "AqKREi6pYd8l"
      },
      "source": [
        "campus=pd.read_csv('Placement_Data_Full_Class.csv')"
      ],
      "execution_count": 10,
      "outputs": []
    },
    {
      "cell_type": "code",
      "metadata": {
        "colab": {
          "base_uri": "https://localhost:8080/"
        },
        "id": "VnsZfMe-YkXb",
        "outputId": "e25c9759-cb51-4755-ef57-a33a43935320"
      },
      "source": [
        "campus.shape"
      ],
      "execution_count": 11,
      "outputs": [
        {
          "output_type": "execute_result",
          "data": {
            "text/plain": [
              "(215, 15)"
            ]
          },
          "metadata": {
            "tags": []
          },
          "execution_count": 11
        }
      ]
    },
    {
      "cell_type": "code",
      "metadata": {
        "colab": {
          "base_uri": "https://localhost:8080/"
        },
        "id": "87-_tl4lXAuY",
        "outputId": "c7532cfc-0c50-44e2-c400-6c8bc4c942cf"
      },
      "source": [
        "campus.info()\n"
      ],
      "execution_count": 12,
      "outputs": [
        {
          "output_type": "stream",
          "text": [
            "<class 'pandas.core.frame.DataFrame'>\n",
            "RangeIndex: 215 entries, 0 to 214\n",
            "Data columns (total 15 columns):\n",
            " #   Column          Non-Null Count  Dtype  \n",
            "---  ------          --------------  -----  \n",
            " 0   sl_no           215 non-null    int64  \n",
            " 1   gender          215 non-null    object \n",
            " 2   ssc_p           215 non-null    float64\n",
            " 3   ssc_b           215 non-null    object \n",
            " 4   hsc_p           215 non-null    float64\n",
            " 5   hsc_b           215 non-null    object \n",
            " 6   hsc_s           215 non-null    object \n",
            " 7   degree_p        215 non-null    float64\n",
            " 8   degree_t        215 non-null    object \n",
            " 9   workex          215 non-null    object \n",
            " 10  etest_p         215 non-null    float64\n",
            " 11  specialisation  215 non-null    object \n",
            " 12  mba_p           215 non-null    float64\n",
            " 13  status          215 non-null    object \n",
            " 14  salary          148 non-null    float64\n",
            "dtypes: float64(6), int64(1), object(8)\n",
            "memory usage: 25.3+ KB\n"
          ],
          "name": "stdout"
        }
      ]
    },
    {
      "cell_type": "code",
      "metadata": {
        "colab": {
          "base_uri": "https://localhost:8080/",
          "height": 241
        },
        "id": "vRnbrtqsXAvV",
        "outputId": "150c989f-a6ac-4dcc-d8bd-9d2858f5d437"
      },
      "source": [
        "campus.head()"
      ],
      "execution_count": 13,
      "outputs": [
        {
          "output_type": "execute_result",
          "data": {
            "text/html": [
              "<div>\n",
              "<style scoped>\n",
              "    .dataframe tbody tr th:only-of-type {\n",
              "        vertical-align: middle;\n",
              "    }\n",
              "\n",
              "    .dataframe tbody tr th {\n",
              "        vertical-align: top;\n",
              "    }\n",
              "\n",
              "    .dataframe thead th {\n",
              "        text-align: right;\n",
              "    }\n",
              "</style>\n",
              "<table border=\"1\" class=\"dataframe\">\n",
              "  <thead>\n",
              "    <tr style=\"text-align: right;\">\n",
              "      <th></th>\n",
              "      <th>sl_no</th>\n",
              "      <th>gender</th>\n",
              "      <th>ssc_p</th>\n",
              "      <th>ssc_b</th>\n",
              "      <th>hsc_p</th>\n",
              "      <th>hsc_b</th>\n",
              "      <th>hsc_s</th>\n",
              "      <th>degree_p</th>\n",
              "      <th>degree_t</th>\n",
              "      <th>workex</th>\n",
              "      <th>etest_p</th>\n",
              "      <th>specialisation</th>\n",
              "      <th>mba_p</th>\n",
              "      <th>status</th>\n",
              "      <th>salary</th>\n",
              "    </tr>\n",
              "  </thead>\n",
              "  <tbody>\n",
              "    <tr>\n",
              "      <th>0</th>\n",
              "      <td>1</td>\n",
              "      <td>M</td>\n",
              "      <td>67.00</td>\n",
              "      <td>Others</td>\n",
              "      <td>91.00</td>\n",
              "      <td>Others</td>\n",
              "      <td>Commerce</td>\n",
              "      <td>58.00</td>\n",
              "      <td>Sci&amp;Tech</td>\n",
              "      <td>No</td>\n",
              "      <td>55.0</td>\n",
              "      <td>Mkt&amp;HR</td>\n",
              "      <td>58.80</td>\n",
              "      <td>Placed</td>\n",
              "      <td>270000.0</td>\n",
              "    </tr>\n",
              "    <tr>\n",
              "      <th>1</th>\n",
              "      <td>2</td>\n",
              "      <td>M</td>\n",
              "      <td>79.33</td>\n",
              "      <td>Central</td>\n",
              "      <td>78.33</td>\n",
              "      <td>Others</td>\n",
              "      <td>Science</td>\n",
              "      <td>77.48</td>\n",
              "      <td>Sci&amp;Tech</td>\n",
              "      <td>Yes</td>\n",
              "      <td>86.5</td>\n",
              "      <td>Mkt&amp;Fin</td>\n",
              "      <td>66.28</td>\n",
              "      <td>Placed</td>\n",
              "      <td>200000.0</td>\n",
              "    </tr>\n",
              "    <tr>\n",
              "      <th>2</th>\n",
              "      <td>3</td>\n",
              "      <td>M</td>\n",
              "      <td>65.00</td>\n",
              "      <td>Central</td>\n",
              "      <td>68.00</td>\n",
              "      <td>Central</td>\n",
              "      <td>Arts</td>\n",
              "      <td>64.00</td>\n",
              "      <td>Comm&amp;Mgmt</td>\n",
              "      <td>No</td>\n",
              "      <td>75.0</td>\n",
              "      <td>Mkt&amp;Fin</td>\n",
              "      <td>57.80</td>\n",
              "      <td>Placed</td>\n",
              "      <td>250000.0</td>\n",
              "    </tr>\n",
              "    <tr>\n",
              "      <th>3</th>\n",
              "      <td>4</td>\n",
              "      <td>M</td>\n",
              "      <td>56.00</td>\n",
              "      <td>Central</td>\n",
              "      <td>52.00</td>\n",
              "      <td>Central</td>\n",
              "      <td>Science</td>\n",
              "      <td>52.00</td>\n",
              "      <td>Sci&amp;Tech</td>\n",
              "      <td>No</td>\n",
              "      <td>66.0</td>\n",
              "      <td>Mkt&amp;HR</td>\n",
              "      <td>59.43</td>\n",
              "      <td>Not Placed</td>\n",
              "      <td>NaN</td>\n",
              "    </tr>\n",
              "    <tr>\n",
              "      <th>4</th>\n",
              "      <td>5</td>\n",
              "      <td>M</td>\n",
              "      <td>85.80</td>\n",
              "      <td>Central</td>\n",
              "      <td>73.60</td>\n",
              "      <td>Central</td>\n",
              "      <td>Commerce</td>\n",
              "      <td>73.30</td>\n",
              "      <td>Comm&amp;Mgmt</td>\n",
              "      <td>No</td>\n",
              "      <td>96.8</td>\n",
              "      <td>Mkt&amp;Fin</td>\n",
              "      <td>55.50</td>\n",
              "      <td>Placed</td>\n",
              "      <td>425000.0</td>\n",
              "    </tr>\n",
              "  </tbody>\n",
              "</table>\n",
              "</div>"
            ],
            "text/plain": [
              "   sl_no gender  ssc_p    ssc_b  ...  specialisation  mba_p      status    salary\n",
              "0      1      M  67.00   Others  ...          Mkt&HR  58.80      Placed  270000.0\n",
              "1      2      M  79.33  Central  ...         Mkt&Fin  66.28      Placed  200000.0\n",
              "2      3      M  65.00  Central  ...         Mkt&Fin  57.80      Placed  250000.0\n",
              "3      4      M  56.00  Central  ...          Mkt&HR  59.43  Not Placed       NaN\n",
              "4      5      M  85.80  Central  ...         Mkt&Fin  55.50      Placed  425000.0\n",
              "\n",
              "[5 rows x 15 columns]"
            ]
          },
          "metadata": {
            "tags": []
          },
          "execution_count": 13
        }
      ]
    },
    {
      "cell_type": "code",
      "metadata": {
        "colab": {
          "base_uri": "https://localhost:8080/"
        },
        "id": "d3Q71MsAXAx9",
        "outputId": "1c28ea8a-ab61-48d0-a916-61633036e6e9"
      },
      "source": [
        "!wget https://www.dropbox.com/s/kpzd0uzqczklfly/US%20Superstore%20data.xls"
      ],
      "execution_count": 14,
      "outputs": [
        {
          "output_type": "stream",
          "text": [
            "--2021-03-20 17:14:10--  https://www.dropbox.com/s/kpzd0uzqczklfly/US%20Superstore%20data.xls\n",
            "Resolving www.dropbox.com (www.dropbox.com)... 162.125.82.18, 2620:100:6032:18::a27d:5212\n",
            "Connecting to www.dropbox.com (www.dropbox.com)|162.125.82.18|:443... connected.\n",
            "HTTP request sent, awaiting response... 301 Moved Permanently\n",
            "Location: /s/raw/kpzd0uzqczklfly/US%20Superstore%20data.xls [following]\n",
            "--2021-03-20 17:14:10--  https://www.dropbox.com/s/raw/kpzd0uzqczklfly/US%20Superstore%20data.xls\n",
            "Reusing existing connection to www.dropbox.com:443.\n",
            "HTTP request sent, awaiting response... 302 Found\n",
            "Location: https://uc68e05ad8e2e1295556d5001cd8.dl.dropboxusercontent.com/cd/0/inline/BLBnYyVZLAIhTPEVqcoCAXDgpnyATNNRueQvsmstlnqFuaPYv4s1N-TFaJMj35gnfUp8fOY4hCADtji-CGUr_R09PMJeeWKqpe063ouQ6NKEmlGU2Vk8ZgfFhHYYhFgkc_G-9VlGyPQDuqX4t0oCMaRq/file# [following]\n",
            "--2021-03-20 17:14:11--  https://uc68e05ad8e2e1295556d5001cd8.dl.dropboxusercontent.com/cd/0/inline/BLBnYyVZLAIhTPEVqcoCAXDgpnyATNNRueQvsmstlnqFuaPYv4s1N-TFaJMj35gnfUp8fOY4hCADtji-CGUr_R09PMJeeWKqpe063ouQ6NKEmlGU2Vk8ZgfFhHYYhFgkc_G-9VlGyPQDuqX4t0oCMaRq/file\n",
            "Resolving uc68e05ad8e2e1295556d5001cd8.dl.dropboxusercontent.com (uc68e05ad8e2e1295556d5001cd8.dl.dropboxusercontent.com)... 162.125.82.15, 2620:100:6032:15::a27d:520f\n",
            "Connecting to uc68e05ad8e2e1295556d5001cd8.dl.dropboxusercontent.com (uc68e05ad8e2e1295556d5001cd8.dl.dropboxusercontent.com)|162.125.82.15|:443... connected.\n",
            "HTTP request sent, awaiting response... 302 Found\n",
            "Location: /cd/0/inline2/BLBRgMab_4j61y0nFNtxehbaIeYJj_33iR0nlPzwuIQ6FN5_c70BoF_R2ER2jvwmY3PCZYEwKmWT6V0kd-rOB_Ln7Nxy6T3JrZfGiqLx_Ck7mpTOToCDFVmIlzNVBRT4bqoXBDb7a02MUR6ycYdpwn88_2oeIJ_dDMrgs9mgB5G_uvyDi71DEiLLwNgfKNNhq6TyOI1Z3-9ngsaAdZAqVQ_vANwQaKwwoxsaIKynWGoiULbvfvMWIu2PZtJiNxvLNX3SEcS2tXYuF8yXbOAWSlyO5VTJ8aLzv0BhnySXkzb8jDCpm-Sh5psmiL4Ncp23Fy0PG8D-vspmD4-BKsc3tYzzXuFq6F2EE-5l3ttreiijYlbZs4RajxFJ9YixTXX0zMo/file [following]\n",
            "--2021-03-20 17:14:12--  https://uc68e05ad8e2e1295556d5001cd8.dl.dropboxusercontent.com/cd/0/inline2/BLBRgMab_4j61y0nFNtxehbaIeYJj_33iR0nlPzwuIQ6FN5_c70BoF_R2ER2jvwmY3PCZYEwKmWT6V0kd-rOB_Ln7Nxy6T3JrZfGiqLx_Ck7mpTOToCDFVmIlzNVBRT4bqoXBDb7a02MUR6ycYdpwn88_2oeIJ_dDMrgs9mgB5G_uvyDi71DEiLLwNgfKNNhq6TyOI1Z3-9ngsaAdZAqVQ_vANwQaKwwoxsaIKynWGoiULbvfvMWIu2PZtJiNxvLNX3SEcS2tXYuF8yXbOAWSlyO5VTJ8aLzv0BhnySXkzb8jDCpm-Sh5psmiL4Ncp23Fy0PG8D-vspmD4-BKsc3tYzzXuFq6F2EE-5l3ttreiijYlbZs4RajxFJ9YixTXX0zMo/file\n",
            "Reusing existing connection to uc68e05ad8e2e1295556d5001cd8.dl.dropboxusercontent.com:443.\n",
            "HTTP request sent, awaiting response... 200 OK\n",
            "Length: 3348992 (3.2M) [application/vnd.ms-excel]\n",
            "Saving to: ‘US Superstore data.xls’\n",
            "\n",
            "US Superstore data. 100%[===================>]   3.19M  3.02MB/s    in 1.1s    \n",
            "\n",
            "2021-03-20 17:14:14 (3.02 MB/s) - ‘US Superstore data.xls’ saved [3348992/3348992]\n",
            "\n"
          ],
          "name": "stdout"
        }
      ]
    },
    {
      "cell_type": "code",
      "metadata": {
        "colab": {
          "base_uri": "https://localhost:8080/"
        },
        "id": "sbKxZ4hjXA3w",
        "outputId": "d8dd985a-868c-455b-a5f3-8d468e88fede"
      },
      "source": [
        "store = pd.read_excel('US Superstore data.xls')\n",
        "store.shape"
      ],
      "execution_count": 18,
      "outputs": [
        {
          "output_type": "execute_result",
          "data": {
            "text/plain": [
              "(9994, 21)"
            ]
          },
          "metadata": {
            "tags": []
          },
          "execution_count": 18
        }
      ]
    },
    {
      "cell_type": "code",
      "metadata": {
        "colab": {
          "base_uri": "https://localhost:8080/",
          "height": 267
        },
        "id": "V1KvrhgEXA7A",
        "outputId": "b2ee7d4d-6dc7-4b9f-b131-4cd1a43cc999"
      },
      "source": [
        "store.head(2)"
      ],
      "execution_count": 19,
      "outputs": [
        {
          "output_type": "execute_result",
          "data": {
            "text/html": [
              "<div>\n",
              "<style scoped>\n",
              "    .dataframe tbody tr th:only-of-type {\n",
              "        vertical-align: middle;\n",
              "    }\n",
              "\n",
              "    .dataframe tbody tr th {\n",
              "        vertical-align: top;\n",
              "    }\n",
              "\n",
              "    .dataframe thead th {\n",
              "        text-align: right;\n",
              "    }\n",
              "</style>\n",
              "<table border=\"1\" class=\"dataframe\">\n",
              "  <thead>\n",
              "    <tr style=\"text-align: right;\">\n",
              "      <th></th>\n",
              "      <th>Row ID</th>\n",
              "      <th>Order ID</th>\n",
              "      <th>Order Date</th>\n",
              "      <th>Ship Date</th>\n",
              "      <th>Ship Mode</th>\n",
              "      <th>Customer ID</th>\n",
              "      <th>Customer Name</th>\n",
              "      <th>Segment</th>\n",
              "      <th>Country</th>\n",
              "      <th>City</th>\n",
              "      <th>State</th>\n",
              "      <th>Postal Code</th>\n",
              "      <th>Region</th>\n",
              "      <th>Product ID</th>\n",
              "      <th>Category</th>\n",
              "      <th>Sub-Category</th>\n",
              "      <th>Product Name</th>\n",
              "      <th>Sales</th>\n",
              "      <th>Quantity</th>\n",
              "      <th>Discount</th>\n",
              "      <th>Profit</th>\n",
              "    </tr>\n",
              "  </thead>\n",
              "  <tbody>\n",
              "    <tr>\n",
              "      <th>0</th>\n",
              "      <td>1</td>\n",
              "      <td>CA-2016-152156</td>\n",
              "      <td>2016-11-08</td>\n",
              "      <td>2016-11-11</td>\n",
              "      <td>Second Class</td>\n",
              "      <td>CG-12520</td>\n",
              "      <td>Claire Gute</td>\n",
              "      <td>Consumer</td>\n",
              "      <td>United States</td>\n",
              "      <td>Henderson</td>\n",
              "      <td>Kentucky</td>\n",
              "      <td>42420</td>\n",
              "      <td>South</td>\n",
              "      <td>FUR-BO-10001798</td>\n",
              "      <td>Furniture</td>\n",
              "      <td>Bookcases</td>\n",
              "      <td>Bush Somerset Collection Bookcase</td>\n",
              "      <td>261.96</td>\n",
              "      <td>2</td>\n",
              "      <td>0.0</td>\n",
              "      <td>41.9136</td>\n",
              "    </tr>\n",
              "    <tr>\n",
              "      <th>1</th>\n",
              "      <td>2</td>\n",
              "      <td>CA-2016-152156</td>\n",
              "      <td>2016-11-08</td>\n",
              "      <td>2016-11-11</td>\n",
              "      <td>Second Class</td>\n",
              "      <td>CG-12520</td>\n",
              "      <td>Claire Gute</td>\n",
              "      <td>Consumer</td>\n",
              "      <td>United States</td>\n",
              "      <td>Henderson</td>\n",
              "      <td>Kentucky</td>\n",
              "      <td>42420</td>\n",
              "      <td>South</td>\n",
              "      <td>FUR-CH-10000454</td>\n",
              "      <td>Furniture</td>\n",
              "      <td>Chairs</td>\n",
              "      <td>Hon Deluxe Fabric Upholstered Stacking Chairs,...</td>\n",
              "      <td>731.94</td>\n",
              "      <td>3</td>\n",
              "      <td>0.0</td>\n",
              "      <td>219.5820</td>\n",
              "    </tr>\n",
              "  </tbody>\n",
              "</table>\n",
              "</div>"
            ],
            "text/plain": [
              "   Row ID        Order ID Order Date  ... Quantity Discount    Profit\n",
              "0       1  CA-2016-152156 2016-11-08  ...        2      0.0   41.9136\n",
              "1       2  CA-2016-152156 2016-11-08  ...        3      0.0  219.5820\n",
              "\n",
              "[2 rows x 21 columns]"
            ]
          },
          "metadata": {
            "tags": []
          },
          "execution_count": 19
        }
      ]
    },
    {
      "cell_type": "code",
      "metadata": {
        "colab": {
          "base_uri": "https://localhost:8080/"
        },
        "id": "5AzGS6fLXA97",
        "outputId": "3e6d3853-99a6-46db-b5ac-fb36705426ec"
      },
      "source": [
        "store.info()"
      ],
      "execution_count": 20,
      "outputs": [
        {
          "output_type": "stream",
          "text": [
            "<class 'pandas.core.frame.DataFrame'>\n",
            "RangeIndex: 9994 entries, 0 to 9993\n",
            "Data columns (total 21 columns):\n",
            " #   Column         Non-Null Count  Dtype         \n",
            "---  ------         --------------  -----         \n",
            " 0   Row ID         9994 non-null   int64         \n",
            " 1   Order ID       9994 non-null   object        \n",
            " 2   Order Date     9994 non-null   datetime64[ns]\n",
            " 3   Ship Date      9994 non-null   datetime64[ns]\n",
            " 4   Ship Mode      9994 non-null   object        \n",
            " 5   Customer ID    9994 non-null   object        \n",
            " 6   Customer Name  9994 non-null   object        \n",
            " 7   Segment        9994 non-null   object        \n",
            " 8   Country        9994 non-null   object        \n",
            " 9   City           9994 non-null   object        \n",
            " 10  State          9994 non-null   object        \n",
            " 11  Postal Code    9994 non-null   int64         \n",
            " 12  Region         9994 non-null   object        \n",
            " 13  Product ID     9994 non-null   object        \n",
            " 14  Category       9994 non-null   object        \n",
            " 15  Sub-Category   9994 non-null   object        \n",
            " 16  Product Name   9994 non-null   object        \n",
            " 17  Sales          9994 non-null   float64       \n",
            " 18  Quantity       9994 non-null   int64         \n",
            " 19  Discount       9994 non-null   float64       \n",
            " 20  Profit         9994 non-null   float64       \n",
            "dtypes: datetime64[ns](2), float64(3), int64(3), object(13)\n",
            "memory usage: 1.6+ MB\n"
          ],
          "name": "stdout"
        }
      ]
    },
    {
      "cell_type": "code",
      "metadata": {
        "colab": {
          "base_uri": "https://localhost:8080/"
        },
        "id": "UOyzG-TPXBA8",
        "outputId": "6493210f-e43c-4b07-87e9-c7eb8e2ea7b1"
      },
      "source": [
        "store.isnull().sum()"
      ],
      "execution_count": 21,
      "outputs": [
        {
          "output_type": "execute_result",
          "data": {
            "text/plain": [
              "Row ID           0\n",
              "Order ID         0\n",
              "Order Date       0\n",
              "Ship Date        0\n",
              "Ship Mode        0\n",
              "Customer ID      0\n",
              "Customer Name    0\n",
              "Segment          0\n",
              "Country          0\n",
              "City             0\n",
              "State            0\n",
              "Postal Code      0\n",
              "Region           0\n",
              "Product ID       0\n",
              "Category         0\n",
              "Sub-Category     0\n",
              "Product Name     0\n",
              "Sales            0\n",
              "Quantity         0\n",
              "Discount         0\n",
              "Profit           0\n",
              "dtype: int64"
            ]
          },
          "metadata": {
            "tags": []
          },
          "execution_count": 21
        }
      ]
    },
    {
      "cell_type": "code",
      "metadata": {
        "colab": {
          "base_uri": "https://localhost:8080/"
        },
        "id": "xQ5jFYE0XBDc",
        "outputId": "9f910988-98b6-4aed-955f-cc28461e3969"
      },
      "source": [
        "#get the mean and the median for sales column\n",
        "store['Sales'].mean()"
      ],
      "execution_count": 22,
      "outputs": [
        {
          "output_type": "execute_result",
          "data": {
            "text/plain": [
              "229.8580008304938"
            ]
          },
          "metadata": {
            "tags": []
          },
          "execution_count": 22
        }
      ]
    },
    {
      "cell_type": "code",
      "metadata": {
        "colab": {
          "base_uri": "https://localhost:8080/"
        },
        "id": "yQIY-CngXBGO",
        "outputId": "49775df0-bf46-4411-a557-d83eb7137a1f"
      },
      "source": [
        "store['Sales'].median()"
      ],
      "execution_count": 24,
      "outputs": [
        {
          "output_type": "execute_result",
          "data": {
            "text/plain": [
              "54.489999999999995"
            ]
          },
          "metadata": {
            "tags": []
          },
          "execution_count": 24
        }
      ]
    },
    {
      "cell_type": "code",
      "metadata": {
        "colab": {
          "base_uri": "https://localhost:8080/"
        },
        "id": "nmQzdMizpp6I",
        "outputId": "cee47a18-680e-46ad-e0f5-03bbe8772e56"
      },
      "source": [
        "store['Sales'].mode()"
      ],
      "execution_count": 25,
      "outputs": [
        {
          "output_type": "execute_result",
          "data": {
            "text/plain": [
              "0    12.96\n",
              "dtype: float64"
            ]
          },
          "metadata": {
            "tags": []
          },
          "execution_count": 25
        }
      ]
    },
    {
      "cell_type": "code",
      "metadata": {
        "colab": {
          "base_uri": "https://localhost:8080/",
          "height": 282
        },
        "id": "OcW4rofepp8z",
        "outputId": "557856f9-cb11-418e-a832-979b5a536c23"
      },
      "source": [
        "store['Sales'].hist()"
      ],
      "execution_count": 26,
      "outputs": [
        {
          "output_type": "execute_result",
          "data": {
            "text/plain": [
              "<matplotlib.axes._subplots.AxesSubplot at 0x7ff8dfe94810>"
            ]
          },
          "metadata": {
            "tags": []
          },
          "execution_count": 26
        },
        {
          "output_type": "display_data",
          "data": {
            "image/png": "[encoded data removed]",
            "text/plain": [
              "<Figure size 432x288 with 1 Axes>"
            ]
          },
          "metadata": {
            "tags": [],
            "needs_background": "light"
          }
        }
      ]
    },
    {
      "cell_type": "code",
      "metadata": {
        "colab": {
          "base_uri": "https://localhost:8080/"
        },
        "id": "a5ocEC0Tpp_V",
        "outputId": "80db8875-d4f4-4d26-b611-9dc00fbaa51d"
      },
      "source": [
        "store['Sales'].describe()"
      ],
      "execution_count": 27,
      "outputs": [
        {
          "output_type": "execute_result",
          "data": {
            "text/plain": [
              "count     9994.000000\n",
              "mean       229.858001\n",
              "std        623.245101\n",
              "min          0.444000\n",
              "25%         17.280000\n",
              "50%         54.490000\n",
              "75%        209.940000\n",
              "max      22638.480000\n",
              "Name: Sales, dtype: float64"
            ]
          },
          "metadata": {
            "tags": []
          },
          "execution_count": 27
        }
      ]
    },
    {
      "cell_type": "code",
      "metadata": {
        "colab": {
          "base_uri": "https://localhost:8080/",
          "height": 272
        },
        "id": "sv5ylosppqBR",
        "outputId": "1547fa22-acc3-4fec-f632-0284159f1804"
      },
      "source": [
        "store.describe().transpose()"
      ],
      "execution_count": 28,
      "outputs": [
        {
          "output_type": "execute_result",
          "data": {
            "text/html": [
              "<div>\n",
              "<style scoped>\n",
              "    .dataframe tbody tr th:only-of-type {\n",
              "        vertical-align: middle;\n",
              "    }\n",
              "\n",
              "    .dataframe tbody tr th {\n",
              "        vertical-align: top;\n",
              "    }\n",
              "\n",
              "    .dataframe thead th {\n",
              "        text-align: right;\n",
              "    }\n",
              "</style>\n",
              "<table border=\"1\" class=\"dataframe\">\n",
              "  <thead>\n",
              "    <tr style=\"text-align: right;\">\n",
              "      <th></th>\n",
              "      <th>count</th>\n",
              "      <th>mean</th>\n",
              "      <th>std</th>\n",
              "      <th>min</th>\n",
              "      <th>25%</th>\n",
              "      <th>50%</th>\n",
              "      <th>75%</th>\n",
              "      <th>max</th>\n",
              "    </tr>\n",
              "  </thead>\n",
              "  <tbody>\n",
              "    <tr>\n",
              "      <th>Row ID</th>\n",
              "      <td>9994.0</td>\n",
              "      <td>4997.500000</td>\n",
              "      <td>2885.163629</td>\n",
              "      <td>1.000</td>\n",
              "      <td>2499.25000</td>\n",
              "      <td>4997.5000</td>\n",
              "      <td>7495.750</td>\n",
              "      <td>9994.000</td>\n",
              "    </tr>\n",
              "    <tr>\n",
              "      <th>Postal Code</th>\n",
              "      <td>9994.0</td>\n",
              "      <td>55190.379428</td>\n",
              "      <td>32063.693350</td>\n",
              "      <td>1040.000</td>\n",
              "      <td>23223.00000</td>\n",
              "      <td>56430.5000</td>\n",
              "      <td>90008.000</td>\n",
              "      <td>99301.000</td>\n",
              "    </tr>\n",
              "    <tr>\n",
              "      <th>Sales</th>\n",
              "      <td>9994.0</td>\n",
              "      <td>229.858001</td>\n",
              "      <td>623.245101</td>\n",
              "      <td>0.444</td>\n",
              "      <td>17.28000</td>\n",
              "      <td>54.4900</td>\n",
              "      <td>209.940</td>\n",
              "      <td>22638.480</td>\n",
              "    </tr>\n",
              "    <tr>\n",
              "      <th>Quantity</th>\n",
              "      <td>9994.0</td>\n",
              "      <td>3.789574</td>\n",
              "      <td>2.225110</td>\n",
              "      <td>1.000</td>\n",
              "      <td>2.00000</td>\n",
              "      <td>3.0000</td>\n",
              "      <td>5.000</td>\n",
              "      <td>14.000</td>\n",
              "    </tr>\n",
              "    <tr>\n",
              "      <th>Discount</th>\n",
              "      <td>9994.0</td>\n",
              "      <td>0.156203</td>\n",
              "      <td>0.206452</td>\n",
              "      <td>0.000</td>\n",
              "      <td>0.00000</td>\n",
              "      <td>0.2000</td>\n",
              "      <td>0.200</td>\n",
              "      <td>0.800</td>\n",
              "    </tr>\n",
              "    <tr>\n",
              "      <th>Profit</th>\n",
              "      <td>9994.0</td>\n",
              "      <td>28.656896</td>\n",
              "      <td>234.260108</td>\n",
              "      <td>-6599.978</td>\n",
              "      <td>1.72875</td>\n",
              "      <td>8.6665</td>\n",
              "      <td>29.364</td>\n",
              "      <td>8399.976</td>\n",
              "    </tr>\n",
              "  </tbody>\n",
              "</table>\n",
              "</div>"
            ],
            "text/plain": [
              "              count          mean  ...        75%        max\n",
              "Row ID       9994.0   4997.500000  ...   7495.750   9994.000\n",
              "Postal Code  9994.0  55190.379428  ...  90008.000  99301.000\n",
              "Sales        9994.0    229.858001  ...    209.940  22638.480\n",
              "Quantity     9994.0      3.789574  ...      5.000     14.000\n",
              "Discount     9994.0      0.156203  ...      0.200      0.800\n",
              "Profit       9994.0     28.656896  ...     29.364   8399.976\n",
              "\n",
              "[6 rows x 8 columns]"
            ]
          },
          "metadata": {
            "tags": []
          },
          "execution_count": 28
        }
      ]
    },
    {
      "cell_type": "code",
      "metadata": {
        "colab": {
          "base_uri": "https://localhost:8080/",
          "height": 297
        },
        "id": "0Pq34DNWrDjV",
        "outputId": "8a42f98a-1ad0-48f0-e5a0-859c0854a870"
      },
      "source": [
        "lst1 = [350, 500, 600, 700, 600, 500, 600, 300, 550]\n",
        "rainfall=pd.DataFrame(lst1,columns=['Rainfall in mm'])\n",
        "rainfall.describe()\n",
        "rainfall.hist()\n",
        "plt.tight_layout()"
      ],
      "execution_count": 35,
      "outputs": [
        {
          "output_type": "display_data",
          "data": {
            "image/png": "[encoded data removed]",
            "text/plain": [
              "<Figure size 432x288 with 1 Axes>"
            ]
          },
          "metadata": {
            "tags": [],
            "needs_background": "light"
          }
        }
      ]
    },
    {
      "cell_type": "code",
      "metadata": {
        "id": "ZsPNWXm-rDnW"
      },
      "source": [
        ""
      ],
      "execution_count": null,
      "outputs": []
    },
    {
      "cell_type": "code",
      "metadata": {
        "id": "Uk_1P8_ArDtB"
      },
      "source": [
        ""
      ],
      "execution_count": null,
      "outputs": []
    },
    {
      "cell_type": "code",
      "metadata": {
        "id": "oQ0bdIQmrDvL"
      },
      "source": [
        ""
      ],
      "execution_count": null,
      "outputs": []
    },
    {
      "cell_type": "code",
      "metadata": {
        "id": "fxvcMUQCrDxZ"
      },
      "source": [
        ""
      ],
      "execution_count": null,
      "outputs": []
    },
    {
      "cell_type": "code",
      "metadata": {
        "id": "esT7WIQorDz-"
      },
      "source": [
        ""
      ],
      "execution_count": null,
      "outputs": []
    },
    {
      "cell_type": "code",
      "metadata": {
        "id": "mUvNiwEErD2V"
      },
      "source": [
        ""
      ],
      "execution_count": null,
      "outputs": []
    }
  ]
}